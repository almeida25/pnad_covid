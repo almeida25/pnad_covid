{
 "cells": [
  {
   "cell_type": "markdown",
   "id": "b6a9d70f-d2e9-4b56-97f3-2be388f6df23",
   "metadata": {},
   "source": [
    "# Imports"
   ]
  },
  {
   "cell_type": "code",
   "execution_count": 1,
   "id": "c9690588-b62c-4d9f-89df-4af5833dd449",
   "metadata": {},
   "outputs": [],
   "source": [
    "import pandas as pd\n",
    "import numpy as np\n",
    "import matplotlib.pyplot as plt\n",
    "import seaborn as sns\n",
    "from scipy.stats import chi2_contingency\n",
    "import plotly.graph_objs as go\n",
    "\n",
    "sns.set_theme()"
   ]
  },
  {
   "cell_type": "markdown",
   "id": "37199dd9-b264-4bc7-bafd-42bc43e17fe1",
   "metadata": {},
   "source": [
    "## Help Functions"
   ]
  },
  {
   "cell_type": "code",
   "execution_count": 30,
   "id": "7c8f2ecc-b286-43da-8adc-d08c89a2c9c7",
   "metadata": {},
   "outputs": [],
   "source": [
    "def gravidade_caso(row):\n",
    "    gravidade = ''\n",
    "    if row['Febre'] == 1 or row['Dor de Garganta'] == 1 or row['Dor de Cabeca'] == 1 or row['Nariz Entupido ou Escorrendo'] == 1 or row['Tosse'] == 1 or row['Perda de Cheiro ou Sabor'] == 1:\n",
    "        gravidade = 'Leve'\n",
    "        \n",
    "    if row['Dificuldade para Respirar'] == 1 or row['Dor no Peito'] == 1:\n",
    "        gravidade = 'Grave'\n",
    "\n",
    "    if gravidade == '':\n",
    "        gravidade = 'Baixa\\Assintomático'\n",
    "    return gravidade"
   ]
  },
  {
   "cell_type": "code",
   "execution_count": 3,
   "id": "c19c2c3b-5fb0-42d9-90fb-91ff3b2b295c",
   "metadata": {},
   "outputs": [],
   "source": [
    "def join_result_covid(row):\n",
    "    result_1 = row['Resultado Teste Covid Boca Nariza']\n",
    "    result_2 = row['Resultado Teste Covid Dedo']\n",
    "    result_3 = row['Resultado Teste Covid Braco']\n",
    "    result_final = ''\n",
    "    if not pd.isna(result_1):\n",
    "        result_final = result_1\n",
    "    elif not pd.isna(result_2):\n",
    "        result_final = result_2\n",
    "    elif not pd.isna(result_1):\n",
    "        result_final = result_3\n",
    "\n",
    "    return result_final"
   ]
  },
  {
   "cell_type": "markdown",
   "id": "69797e2b-c5e2-4c15-ae20-0ff34d7ee15f",
   "metadata": {},
   "source": [
    "## Loading Data"
   ]
  },
  {
   "cell_type": "code",
   "execution_count": 4,
   "id": "21a14fd5-8a82-4ab0-addd-a6748386ef78",
   "metadata": {},
   "outputs": [],
   "source": [
    "df1 = pd.read_csv(r\"C:\\Users\\brcalazans\\Desktop\\Pessoal\\FIAP\\Aulas\\Fase 3\\Tech Challenge\\dados\\PNAD_COVID_092020.csv\")"
   ]
  },
  {
   "cell_type": "code",
   "execution_count": 5,
   "id": "be4d13cf-3e39-4af0-bb72-4349646397d9",
   "metadata": {},
   "outputs": [],
   "source": [
    "df2 = pd.read_csv(r\"C:\\Users\\brcalazans\\Desktop\\Pessoal\\FIAP\\Aulas\\Fase 3\\Tech Challenge\\dados\\PNAD_COVID_102020.csv\")"
   ]
  },
  {
   "cell_type": "code",
   "execution_count": 6,
   "id": "34881dfa-ac34-4fa6-bbe0-2e332610a711",
   "metadata": {},
   "outputs": [],
   "source": [
    "df3 = pd.read_csv(r\"C:\\Users\\brcalazans\\Desktop\\Pessoal\\FIAP\\Aulas\\Fase 3\\Tech Challenge\\dados\\PNAD_COVID_112020.csv\")"
   ]
  },
  {
   "cell_type": "code",
   "execution_count": 7,
   "id": "63c4ae6d-8397-4a07-a3d3-6fa145a4e2c0",
   "metadata": {},
   "outputs": [],
   "source": [
    "df = pd.concat([df1, df2, df3], ignore_index=True)"
   ]
  },
  {
   "cell_type": "markdown",
   "id": "b4f242c6-8dd7-41f6-9613-3625ca4feb22",
   "metadata": {},
   "source": [
    "# Descrição dos Dados"
   ]
  },
  {
   "cell_type": "code",
   "execution_count": 8,
   "id": "54979e78-588d-43c0-bbfe-98bfb961e7f1",
   "metadata": {},
   "outputs": [],
   "source": [
    "df1 = df.copy()"
   ]
  },
  {
   "cell_type": "markdown",
   "id": "920364d4-fd94-4d4b-91d7-cf63aee74b6a",
   "metadata": {},
   "source": [
    "## Seleção das Colunas"
   ]
  },
  {
   "cell_type": "code",
   "execution_count": 9,
   "id": "df7299dc-571b-4331-888b-dbaca5a38ffa",
   "metadata": {},
   "outputs": [],
   "source": [
    "df1 = df1[['UF', 'A002', 'A003', 'A004', 'B0011', 'B0012', 'B0013', 'B0014', 'B0015', 'B0016', 'B0017', \n",
    "    'B0018','B0019','B00111','B00112', 'B008', 'B009B', 'B009D', 'B009F', 'B011', 'B002', 'D0051', 'C011A11']]"
   ]
  },
  {
   "cell_type": "markdown",
   "id": "ad4486e5-8529-45a8-95a5-1d36dfb1103b",
   "metadata": {},
   "source": [
    "## Renomeio das Colunas"
   ]
  },
  {
   "cell_type": "code",
   "execution_count": 10,
   "id": "3e1d0ed6-de60-4c83-a886-3f46dd6f05b3",
   "metadata": {},
   "outputs": [],
   "source": [
    "column_names = ['UF', 'Idade', 'Sexo', 'Cor ou Raca', 'Febre', 'Tosse', 'Dor de Garganta', 'Dificuldade para Respirar',\n",
    "                'Dor de Cabeca', 'Dor no Peito', 'Nausea', 'Nariz Entupido ou Escorrendo', 'Fadiga', 'Perda de Cheiro ou Sabor',\n",
    "                'Dor Muscular', 'Realizou Teste Covid', 'Resultado Teste Covid Boca Nariza', 'Resultado Teste Covid Dedo',\n",
    "                'Resultado Teste Covid Braco', 'Medida de Restricao de Contato', 'Foi ao Estabelecimento de Saude',\n",
    "                'Auxilio Emergencial', 'Faixa de Rendimento']\n",
    "\n",
    "df1.columns = column_names"
   ]
  },
  {
   "cell_type": "markdown",
   "id": "62a8574a-f919-4423-8354-197adb25a09b",
   "metadata": {},
   "source": [
    "## Dimensão dos Dados"
   ]
  },
  {
   "cell_type": "code",
   "execution_count": 11,
   "id": "98363aad-2bf1-47bc-9de3-9b531a5da5cf",
   "metadata": {},
   "outputs": [
    {
     "name": "stdout",
     "output_type": "stream",
     "text": [
      "Number of Rows: 1149197\n",
      "Number of Cols: 23\n"
     ]
    }
   ],
   "source": [
    "print( 'Number of Rows: {}'.format( df1.shape[0]))\n",
    "print( 'Number of Cols: {}'.format( df1.shape[1]))"
   ]
  },
  {
   "cell_type": "markdown",
   "id": "5477083e-a014-46fe-a03a-da2966363734",
   "metadata": {},
   "source": [
    "## Tipos dos Dados"
   ]
  },
  {
   "cell_type": "code",
   "execution_count": 12,
   "id": "d2f3b140-23f2-46fc-a26e-616161aea9f4",
   "metadata": {},
   "outputs": [
    {
     "data": {
      "text/plain": [
       "UF                                     int64\n",
       "Idade                                  int64\n",
       "Sexo                                   int64\n",
       "Cor ou Raca                            int64\n",
       "Febre                                  int64\n",
       "Tosse                                  int64\n",
       "Dor de Garganta                        int64\n",
       "Dificuldade para Respirar              int64\n",
       "Dor de Cabeca                          int64\n",
       "Dor no Peito                           int64\n",
       "Nausea                                 int64\n",
       "Nariz Entupido ou Escorrendo           int64\n",
       "Fadiga                                 int64\n",
       "Perda de Cheiro ou Sabor               int64\n",
       "Dor Muscular                           int64\n",
       "Realizou Teste Covid                   int64\n",
       "Resultado Teste Covid Boca Nariza    float64\n",
       "Resultado Teste Covid Dedo           float64\n",
       "Resultado Teste Covid Braco          float64\n",
       "Medida de Restricao de Contato         int64\n",
       "Foi ao Estabelecimento de Saude      float64\n",
       "Auxilio Emergencial                    int64\n",
       "Faixa de Rendimento                  float64\n",
       "dtype: object"
      ]
     },
     "execution_count": 12,
     "metadata": {},
     "output_type": "execute_result"
    }
   ],
   "source": [
    "df1.dtypes"
   ]
  },
  {
   "cell_type": "markdown",
   "id": "00ac8145-707c-4003-9e5d-9dd825a17e1d",
   "metadata": {},
   "source": [
    "## Verificação de Valores Nulos"
   ]
  },
  {
   "cell_type": "code",
   "execution_count": 13,
   "id": "b24f4fb3-f2ca-4c16-876b-8ff81307ef4e",
   "metadata": {},
   "outputs": [
    {
     "data": {
      "text/plain": [
       "UF                                         0\n",
       "Idade                                      0\n",
       "Sexo                                       0\n",
       "Cor ou Raca                                0\n",
       "Febre                                      0\n",
       "Tosse                                      0\n",
       "Dor de Garganta                            0\n",
       "Dificuldade para Respirar                  0\n",
       "Dor de Cabeca                              0\n",
       "Dor no Peito                               0\n",
       "Nausea                                     0\n",
       "Nariz Entupido ou Escorrendo               0\n",
       "Fadiga                                     0\n",
       "Perda de Cheiro ou Sabor                   0\n",
       "Dor Muscular                               0\n",
       "Realizou Teste Covid                       0\n",
       "Resultado Teste Covid Boca Nariza    1098266\n",
       "Resultado Teste Covid Dedo           1086297\n",
       "Resultado Teste Covid Braco          1110474\n",
       "Medida de Restricao de Contato             0\n",
       "Foi ao Estabelecimento de Saude      1104247\n",
       "Auxilio Emergencial                        0\n",
       "Faixa de Rendimento                   726288\n",
       "dtype: int64"
      ]
     },
     "execution_count": 13,
     "metadata": {},
     "output_type": "execute_result"
    }
   ],
   "source": [
    "df1.isna().sum()"
   ]
  },
  {
   "cell_type": "code",
   "execution_count": 14,
   "id": "19b3f46a-23ea-46c3-b6e9-484fcbeb54fa",
   "metadata": {},
   "outputs": [
    {
     "data": {
      "text/plain": [
       "Index(['UF', 'Idade', 'Sexo', 'Cor ou Raca', 'Febre', 'Tosse',\n",
       "       'Dor de Garganta', 'Dificuldade para Respirar', 'Dor de Cabeca',\n",
       "       'Dor no Peito', 'Nausea', 'Nariz Entupido ou Escorrendo', 'Fadiga',\n",
       "       'Perda de Cheiro ou Sabor', 'Dor Muscular', 'Realizou Teste Covid',\n",
       "       'Resultado Teste Covid Boca Nariza', 'Resultado Teste Covid Dedo',\n",
       "       'Resultado Teste Covid Braco', 'Medida de Restricao de Contato',\n",
       "       'Foi ao Estabelecimento de Saude', 'Auxilio Emergencial',\n",
       "       'Faixa de Rendimento'],\n",
       "      dtype='object')"
      ]
     },
     "execution_count": 14,
     "metadata": {},
     "output_type": "execute_result"
    }
   ],
   "source": [
    "df1.columns"
   ]
  },
  {
   "cell_type": "markdown",
   "id": "100db013-39a7-4b47-a24d-c1b6db072e77",
   "metadata": {},
   "source": [
    "## Tratamento de Dados"
   ]
  },
  {
   "cell_type": "markdown",
   "id": "4635c3b2-e028-43b2-8fc0-95dda2317ece",
   "metadata": {},
   "source": [
    "### Juntando Resultados de Covid"
   ]
  },
  {
   "cell_type": "code",
   "execution_count": 15,
   "id": "f2666121-dea1-4be4-8194-a6b5b25ed096",
   "metadata": {},
   "outputs": [],
   "source": [
    "df1['Resultado Covid'] = df1.apply(lambda row: join_result_covid(row), axis=1)"
   ]
  },
  {
   "cell_type": "code",
   "execution_count": null,
   "id": "7a6f9127-85a3-4692-95fa-84fb3822ed21",
   "metadata": {},
   "outputs": [],
   "source": [
    "df1['Resultado Covid'].unique()"
   ]
  },
  {
   "cell_type": "markdown",
   "id": "3a86a4ef-ee5b-4cc2-bb6b-019ea01da6e4",
   "metadata": {},
   "source": [
    "# Visualização de Dados"
   ]
  },
  {
   "cell_type": "code",
   "execution_count": null,
   "id": "37a766f9-0146-4ea7-ae36-7c08678acf91",
   "metadata": {},
   "outputs": [],
   "source": [
    "df1.loc[df1['Resultado Covid'].isna()][['Resultado Teste Covid Boca Nariza', 'Resultado Teste Covid Dedo', 'Resultado Teste Covid Braco']].sum()"
   ]
  },
  {
   "cell_type": "markdown",
   "id": "273bb6b7-51eb-495f-9685-ece546c504ff",
   "metadata": {},
   "source": [
    "## Distribuição de Pesquisas por Estado"
   ]
  },
  {
   "cell_type": "code",
   "execution_count": null,
   "id": "8eeff508-807d-4530-8ea5-afd8d6eb15a6",
   "metadata": {},
   "outputs": [],
   "source": [
    "import json\n",
    "import plotly.express as px\n",
    "\n",
    "geojson = json.load(open(r'C:\\Users\\brcalazans\\Desktop\\Pessoal\\FIAP\\Aulas\\Fase 3\\Tech Challenge\\scripts\\brasil_estados.json'))"
   ]
  },
  {
   "cell_type": "code",
   "execution_count": null,
   "id": "949b315e-2e48-4231-a8b3-861750862327",
   "metadata": {},
   "outputs": [],
   "source": [
    "uf = {\n",
    "\"11\":\"Rondônia\",\n",
    "\"12\":\"Acre\",\n",
    "\"13\":\"Amazonas\",\n",
    "\"14\":\"Roraima\",\n",
    "\"15\":\"Pará\",\n",
    "\"16\":\"Amapá\",\n",
    "\"17\":\"Tocantins\",\n",
    "\"21\":\"Maranhão\",\n",
    "\"22\":\"Piauí\",\n",
    "\"23\":\"Ceará\",\n",
    "\"24\":\"Rio Grande do Norte\",\n",
    "\"25\":\"Paraíba\",\n",
    "\"26\":\"Pernambuco\",\n",
    "\"27\":\"Alagoas\",\n",
    "\"28\":\"Sergipe\",\n",
    "\"29\":\"Bahia\",\n",
    "\"31\":\"Minas Gerais\",\n",
    "\"32\":\"Espírito Santo\",\n",
    "\"33\":\"Rio de Janeiro\",\n",
    "\"35\":\"São Paulo\",\n",
    "\"41\":\"Paraná\",\n",
    "\"42\":\"Santa Catarina\",\n",
    "\"43\":\"Rio Grande do Sul\",\n",
    "\"50\":\"Mato Grosso do Sul\",\n",
    "\"51\":\"Mato Grosso\",\n",
    "\"52\":\"Goiás\",\n",
    "\"53\":\"Distrito Federal\"\n",
    "}"
   ]
  },
  {
   "cell_type": "code",
   "execution_count": null,
   "id": "b099a8a0-2c41-43c0-85f4-b7d8b6cc0a7f",
   "metadata": {},
   "outputs": [],
   "source": [
    "df1['UF'] = df1['UF'].astype(str)\n",
    "df1['Estado'] = df1['UF'].map(uf)"
   ]
  },
  {
   "cell_type": "code",
   "execution_count": null,
   "id": "7c2bb4ac-0f15-482d-ae2d-6b1a48d54cf2",
   "metadata": {},
   "outputs": [],
   "source": [
    "estados_sigla = {\n",
    "    'Acre': 'AC',\n",
    "    'Alagoas': 'AL',\n",
    "    'Amapá': 'AP',\n",
    "    'Amazonas': 'AM',\n",
    "    'Bahia': 'BA',\n",
    "    'Ceará': 'CE',\n",
    "    'Distrito Federal': 'DF',\n",
    "    'Espírito Santo': 'ES',\n",
    "    'Goiás': 'GO',\n",
    "    'Maranhão': 'MA',\n",
    "    'Mato Grosso': 'MT',\n",
    "    'Mato Grosso do Sul': 'MS',\n",
    "    'Minas Gerais': 'MG',\n",
    "    'Pará': 'PA',\n",
    "    'Paraíba': 'PB',\n",
    "    'Paraná': 'PR',\n",
    "    'Pernambuco': 'PE',\n",
    "    'Piauí': 'PI',\n",
    "    'Rio de Janeiro': 'RJ',\n",
    "    'Rio Grande do Norte': 'RN',\n",
    "    'Rio Grande do Sul': 'RS',\n",
    "    'Rondônia': 'RO',\n",
    "    'Roraima': 'RR',\n",
    "    'Santa Catarina': 'SC',\n",
    "    'São Paulo': 'SP',\n",
    "    'Sergipe': 'SE',\n",
    "    'Tocantins': 'TO'\n",
    "}"
   ]
  },
  {
   "cell_type": "code",
   "execution_count": null,
   "id": "4361e34d-e9ec-4b07-9268-826cb7d0c929",
   "metadata": {},
   "outputs": [],
   "source": [
    "df1['Estado_Sigla'] = df1['Estado'].map(estados_sigla)"
   ]
  },
  {
   "cell_type": "code",
   "execution_count": null,
   "id": "ffe252c8-2116-42bf-ada5-6ae8a226c281",
   "metadata": {},
   "outputs": [],
   "source": [
    "uf_agrupada = df1[['Estado_Sigla', 'Resultado Covid']].groupby('Estado_Sigla').count().reset_index()"
   ]
  },
  {
   "cell_type": "code",
   "execution_count": null,
   "id": "7c9dc7a7-ef76-412e-8219-56c3829bd19a",
   "metadata": {},
   "outputs": [],
   "source": [
    "fig_choropleth = px.choropleth(uf_agrupada, geojson=geojson, locations='Estado_Sigla', color='Resultado Covid',\n",
    "                           color_continuous_scale=\"Reds\",\n",
    "                            scope='south america'\n",
    "                          )\n",
    "\n",
    "fig_choropleth.show()"
   ]
  },
  {
   "cell_type": "markdown",
   "id": "525f825a-aaaa-4a3a-9ac2-291db0cdcb75",
   "metadata": {},
   "source": [
    "## Distribuição de Casos Positivos de Covid Por Estado"
   ]
  },
  {
   "cell_type": "code",
   "execution_count": null,
   "id": "dacbea12-5e3a-4204-9f43-f3866ef3e65b",
   "metadata": {},
   "outputs": [],
   "source": [
    "#df1 = df1.loc[df1['Resultado Covid'] != '']"
   ]
  },
  {
   "cell_type": "code",
   "execution_count": 23,
   "id": "99627b1c-f828-40f8-acf9-7c4d50ee953e",
   "metadata": {},
   "outputs": [],
   "source": [
    "#df1 = df1.loc[df1['Resultado Covid'].isin([1, 2])]\n",
    "df1 = df1.loc[df1['Resultado Covid'] == 1]"
   ]
  },
  {
   "cell_type": "code",
   "execution_count": null,
   "id": "86c19e7e-6bca-43de-883d-af35dd9f47d6",
   "metadata": {},
   "outputs": [],
   "source": [
    "df1.shape"
   ]
  },
  {
   "cell_type": "code",
   "execution_count": null,
   "id": "0da852fa-5e50-4536-8d02-2ec7435abc74",
   "metadata": {},
   "outputs": [],
   "source": [
    "uf_agrupada = df1[['Estado_Sigla', 'Resultado Covid']].groupby('Estado_Sigla').count().reset_index()"
   ]
  },
  {
   "cell_type": "code",
   "execution_count": null,
   "id": "8b45ddf9-6b43-411e-a48c-8da80b78af2d",
   "metadata": {},
   "outputs": [],
   "source": [
    "fig_choropleth = px.choropleth(uf_agrupada, geojson=geojson, locations='Estado_Sigla', color='Resultado Covid',\n",
    "                           color_continuous_scale=\"Reds\",\n",
    "                            scope='south america'\n",
    "                          )\n",
    "\n",
    "fig_choropleth.show()"
   ]
  },
  {
   "cell_type": "markdown",
   "id": "bfad9f27-dbc1-4b3e-92ab-2c2e438bb868",
   "metadata": {},
   "source": [
    "## Distribuição e Classificação da Gravidade dos Casos"
   ]
  },
  {
   "cell_type": "code",
   "execution_count": 24,
   "id": "5e7dd15d-7d31-4846-8c5e-a9ae7db28f6d",
   "metadata": {},
   "outputs": [],
   "source": [
    "classificador = {\n",
    "    'Febre': 'Leve',\n",
    "    'Dor de Garganta': 'Leve',\n",
    "    'Dor de Cabeca': 'Leve',\n",
    "    'Nariz Entupido ou Escorrendo': 'Leve',\n",
    "    'Tosse': 'Leve',\n",
    "    'Perda de Cheiro ou Sabor': 'Leve',\n",
    "    'Dificuldade para Respirar': 'Grave',\n",
    "    'Dor no Peito': 'Grave'\n",
    "}\n",
    "\n",
    "df_classificador = pd.DataFrame(classificador.items(), columns=['Sintoma', 'Classificação'])"
   ]
  },
  {
   "cell_type": "code",
   "execution_count": 31,
   "id": "45c96841-f085-4469-9e23-0fa166e56efb",
   "metadata": {},
   "outputs": [],
   "source": [
    "df1['Gravidade'] = df1.apply(lambda row: gravidade_caso(row), axis=1)"
   ]
  },
  {
   "cell_type": "code",
   "execution_count": 32,
   "id": "6b7d5f7f-ae59-40ef-8f4d-9c7741b08ebc",
   "metadata": {},
   "outputs": [],
   "source": [
    "df_gravidade = df1[['Resultado Covid', 'Gravidade']].groupby('Gravidade').count().reset_index()"
   ]
  },
  {
   "cell_type": "code",
   "execution_count": 33,
   "id": "ccb6a469-f420-468d-944f-c2d84d105ddf",
   "metadata": {},
   "outputs": [],
   "source": [
    "df_gravidade = df_gravidade.sort_values(by='Resultado Covid', ascending=False)"
   ]
  },
  {
   "cell_type": "code",
   "execution_count": 34,
   "id": "95b24e9f-a67a-4f38-95a3-e0eca3b202f9",
   "metadata": {},
   "outputs": [
    {
     "data": {
      "image/png": "[encoded data removed]",
      "text/plain": [
       "<Figure size 640x480 with 1 Axes>"
      ]
     },
     "metadata": {},
     "output_type": "display_data"
    }
   ],
   "source": [
    "ax = sns.barplot(df_gravidade, x=\"Gravidade\", y=\"Resultado Covid\", estimator=\"sum\", errorbar=None)\n",
    "ax.bar_label(ax.containers[0], fontsize=9);"
   ]
  },
  {
   "cell_type": "code",
   "execution_count": 29,
   "id": "18baa5b7-c336-4c28-8c41-28751dc42fae",
   "metadata": {},
   "outputs": [
    {
     "data": {
      "text/html": [
       "<div>\n",
       "<style scoped>\n",
       "    .dataframe tbody tr th:only-of-type {\n",
       "        vertical-align: middle;\n",
       "    }\n",
       "\n",
       "    .dataframe tbody tr th {\n",
       "        vertical-align: top;\n",
       "    }\n",
       "\n",
       "    .dataframe thead th {\n",
       "        text-align: right;\n",
       "    }\n",
       "</style>\n",
       "<table border=\"1\" class=\"dataframe\">\n",
       "  <thead>\n",
       "    <tr style=\"text-align: right;\">\n",
       "      <th></th>\n",
       "      <th>Sintoma</th>\n",
       "      <th>Classificação</th>\n",
       "    </tr>\n",
       "  </thead>\n",
       "  <tbody>\n",
       "    <tr>\n",
       "      <th>0</th>\n",
       "      <td>Febre</td>\n",
       "      <td>Leve</td>\n",
       "    </tr>\n",
       "    <tr>\n",
       "      <th>1</th>\n",
       "      <td>Dor de Garganta</td>\n",
       "      <td>Leve</td>\n",
       "    </tr>\n",
       "    <tr>\n",
       "      <th>2</th>\n",
       "      <td>Dor de Cabeca</td>\n",
       "      <td>Leve</td>\n",
       "    </tr>\n",
       "    <tr>\n",
       "      <th>3</th>\n",
       "      <td>Nariz Entupido ou Escorrendo</td>\n",
       "      <td>Leve</td>\n",
       "    </tr>\n",
       "    <tr>\n",
       "      <th>4</th>\n",
       "      <td>Tosse</td>\n",
       "      <td>Leve</td>\n",
       "    </tr>\n",
       "    <tr>\n",
       "      <th>5</th>\n",
       "      <td>Perda de Cheiro ou Sabor</td>\n",
       "      <td>Leve</td>\n",
       "    </tr>\n",
       "    <tr>\n",
       "      <th>6</th>\n",
       "      <td>Dificuldade para Respirar</td>\n",
       "      <td>Grave</td>\n",
       "    </tr>\n",
       "    <tr>\n",
       "      <th>7</th>\n",
       "      <td>Dor no Peito</td>\n",
       "      <td>Grave</td>\n",
       "    </tr>\n",
       "  </tbody>\n",
       "</table>\n",
       "</div>"
      ],
      "text/plain": [
       "                        Sintoma Classificação\n",
       "0                         Febre          Leve\n",
       "1               Dor de Garganta          Leve\n",
       "2                 Dor de Cabeca          Leve\n",
       "3  Nariz Entupido ou Escorrendo          Leve\n",
       "4                         Tosse          Leve\n",
       "5      Perda de Cheiro ou Sabor          Leve\n",
       "6     Dificuldade para Respirar         Grave\n",
       "7                  Dor no Peito         Grave"
      ]
     },
     "execution_count": 29,
     "metadata": {},
     "output_type": "execute_result"
    }
   ],
   "source": [
    "df_classificador"
   ]
  },
  {
   "cell_type": "markdown",
   "id": "97c31b07-ef2d-4905-ab37-596f4f1feffc",
   "metadata": {},
   "source": [
    "## Identificação dos Assintomaticos e Isolamento"
   ]
  },
  {
   "cell_type": "code",
   "execution_count": 41,
   "id": "a23755b4-c303-4c25-a89a-e8cbcd9628a1",
   "metadata": {},
   "outputs": [
    {
     "data": {
      "text/html": [
       "<div>\n",
       "<style scoped>\n",
       "    .dataframe tbody tr th:only-of-type {\n",
       "        vertical-align: middle;\n",
       "    }\n",
       "\n",
       "    .dataframe tbody tr th {\n",
       "        vertical-align: top;\n",
       "    }\n",
       "\n",
       "    .dataframe thead th {\n",
       "        text-align: right;\n",
       "    }\n",
       "</style>\n",
       "<table border=\"1\" class=\"dataframe\">\n",
       "  <thead>\n",
       "    <tr style=\"text-align: right;\">\n",
       "      <th></th>\n",
       "      <th>UF</th>\n",
       "      <th>Idade</th>\n",
       "      <th>Sexo</th>\n",
       "      <th>Cor ou Raca</th>\n",
       "      <th>Febre</th>\n",
       "      <th>Tosse</th>\n",
       "      <th>Dor de Garganta</th>\n",
       "      <th>Dificuldade para Respirar</th>\n",
       "      <th>Dor de Cabeca</th>\n",
       "      <th>Dor no Peito</th>\n",
       "      <th>...</th>\n",
       "      <th>Realizou Teste Covid</th>\n",
       "      <th>Resultado Teste Covid Boca Nariza</th>\n",
       "      <th>Resultado Teste Covid Dedo</th>\n",
       "      <th>Resultado Teste Covid Braco</th>\n",
       "      <th>Medida de Restricao de Contato</th>\n",
       "      <th>Foi ao Estabelecimento de Saude</th>\n",
       "      <th>Auxilio Emergencial</th>\n",
       "      <th>Faixa de Rendimento</th>\n",
       "      <th>Resultado Covid</th>\n",
       "      <th>Gravidade</th>\n",
       "    </tr>\n",
       "  </thead>\n",
       "  <tbody>\n",
       "    <tr>\n",
       "      <th>23</th>\n",
       "      <td>11</td>\n",
       "      <td>36</td>\n",
       "      <td>2</td>\n",
       "      <td>4</td>\n",
       "      <td>2</td>\n",
       "      <td>2</td>\n",
       "      <td>2</td>\n",
       "      <td>2</td>\n",
       "      <td>2</td>\n",
       "      <td>2</td>\n",
       "      <td>...</td>\n",
       "      <td>1</td>\n",
       "      <td>1.0</td>\n",
       "      <td>2.0</td>\n",
       "      <td>1.0</td>\n",
       "      <td>2</td>\n",
       "      <td>NaN</td>\n",
       "      <td>2</td>\n",
       "      <td>NaN</td>\n",
       "      <td>1.0</td>\n",
       "      <td>Baixa\\Assintomático</td>\n",
       "    </tr>\n",
       "    <tr>\n",
       "      <th>30</th>\n",
       "      <td>11</td>\n",
       "      <td>50</td>\n",
       "      <td>2</td>\n",
       "      <td>4</td>\n",
       "      <td>2</td>\n",
       "      <td>2</td>\n",
       "      <td>2</td>\n",
       "      <td>2</td>\n",
       "      <td>2</td>\n",
       "      <td>2</td>\n",
       "      <td>...</td>\n",
       "      <td>1</td>\n",
       "      <td>NaN</td>\n",
       "      <td>1.0</td>\n",
       "      <td>1.0</td>\n",
       "      <td>3</td>\n",
       "      <td>NaN</td>\n",
       "      <td>2</td>\n",
       "      <td>4.0</td>\n",
       "      <td>1.0</td>\n",
       "      <td>Baixa\\Assintomático</td>\n",
       "    </tr>\n",
       "    <tr>\n",
       "      <th>31</th>\n",
       "      <td>11</td>\n",
       "      <td>45</td>\n",
       "      <td>1</td>\n",
       "      <td>4</td>\n",
       "      <td>2</td>\n",
       "      <td>2</td>\n",
       "      <td>2</td>\n",
       "      <td>2</td>\n",
       "      <td>2</td>\n",
       "      <td>2</td>\n",
       "      <td>...</td>\n",
       "      <td>1</td>\n",
       "      <td>NaN</td>\n",
       "      <td>1.0</td>\n",
       "      <td>1.0</td>\n",
       "      <td>2</td>\n",
       "      <td>NaN</td>\n",
       "      <td>2</td>\n",
       "      <td>5.0</td>\n",
       "      <td>1.0</td>\n",
       "      <td>Baixa\\Assintomático</td>\n",
       "    </tr>\n",
       "    <tr>\n",
       "      <th>52</th>\n",
       "      <td>11</td>\n",
       "      <td>28</td>\n",
       "      <td>1</td>\n",
       "      <td>4</td>\n",
       "      <td>2</td>\n",
       "      <td>2</td>\n",
       "      <td>2</td>\n",
       "      <td>2</td>\n",
       "      <td>2</td>\n",
       "      <td>2</td>\n",
       "      <td>...</td>\n",
       "      <td>1</td>\n",
       "      <td>1.0</td>\n",
       "      <td>NaN</td>\n",
       "      <td>2.0</td>\n",
       "      <td>2</td>\n",
       "      <td>NaN</td>\n",
       "      <td>2</td>\n",
       "      <td>5.0</td>\n",
       "      <td>1.0</td>\n",
       "      <td>Baixa\\Assintomático</td>\n",
       "    </tr>\n",
       "    <tr>\n",
       "      <th>55</th>\n",
       "      <td>11</td>\n",
       "      <td>38</td>\n",
       "      <td>2</td>\n",
       "      <td>4</td>\n",
       "      <td>2</td>\n",
       "      <td>2</td>\n",
       "      <td>2</td>\n",
       "      <td>2</td>\n",
       "      <td>2</td>\n",
       "      <td>2</td>\n",
       "      <td>...</td>\n",
       "      <td>1</td>\n",
       "      <td>1.0</td>\n",
       "      <td>1.0</td>\n",
       "      <td>1.0</td>\n",
       "      <td>2</td>\n",
       "      <td>NaN</td>\n",
       "      <td>2</td>\n",
       "      <td>4.0</td>\n",
       "      <td>1.0</td>\n",
       "      <td>Baixa\\Assintomático</td>\n",
       "    </tr>\n",
       "  </tbody>\n",
       "</table>\n",
       "<p>5 rows × 25 columns</p>\n",
       "</div>"
      ],
      "text/plain": [
       "    UF  Idade  Sexo  Cor ou Raca  Febre  Tosse  Dor de Garganta  \\\n",
       "23  11     36     2            4      2      2                2   \n",
       "30  11     50     2            4      2      2                2   \n",
       "31  11     45     1            4      2      2                2   \n",
       "52  11     28     1            4      2      2                2   \n",
       "55  11     38     2            4      2      2                2   \n",
       "\n",
       "    Dificuldade para Respirar  Dor de Cabeca  Dor no Peito  ...  \\\n",
       "23                          2              2             2  ...   \n",
       "30                          2              2             2  ...   \n",
       "31                          2              2             2  ...   \n",
       "52                          2              2             2  ...   \n",
       "55                          2              2             2  ...   \n",
       "\n",
       "    Realizou Teste Covid  Resultado Teste Covid Boca Nariza  \\\n",
       "23                     1                                1.0   \n",
       "30                     1                                NaN   \n",
       "31                     1                                NaN   \n",
       "52                     1                                1.0   \n",
       "55                     1                                1.0   \n",
       "\n",
       "    Resultado Teste Covid Dedo  Resultado Teste Covid Braco  \\\n",
       "23                         2.0                          1.0   \n",
       "30                         1.0                          1.0   \n",
       "31                         1.0                          1.0   \n",
       "52                         NaN                          2.0   \n",
       "55                         1.0                          1.0   \n",
       "\n",
       "    Medida de Restricao de Contato  Foi ao Estabelecimento de Saude  \\\n",
       "23                               2                              NaN   \n",
       "30                               3                              NaN   \n",
       "31                               2                              NaN   \n",
       "52                               2                              NaN   \n",
       "55                               2                              NaN   \n",
       "\n",
       "    Auxilio Emergencial  Faixa de Rendimento  Resultado Covid  \\\n",
       "23                    2                  NaN              1.0   \n",
       "30                    2                  4.0              1.0   \n",
       "31                    2                  5.0              1.0   \n",
       "52                    2                  5.0              1.0   \n",
       "55                    2                  4.0              1.0   \n",
       "\n",
       "              Gravidade  \n",
       "23  Baixa\\Assintomático  \n",
       "30  Baixa\\Assintomático  \n",
       "31  Baixa\\Assintomático  \n",
       "52  Baixa\\Assintomático  \n",
       "55  Baixa\\Assintomático  \n",
       "\n",
       "[5 rows x 25 columns]"
      ]
     },
     "execution_count": 41,
     "metadata": {},
     "output_type": "execute_result"
    }
   ],
   "source": [
    "df1.head()"
   ]
  },
  {
   "cell_type": "code",
   "execution_count": 44,
   "id": "c25a2bee-1bf3-496c-88ea-017b48eef1a3",
   "metadata": {},
   "outputs": [],
   "source": [
    "df_isolamento = df1.loc[(df1['Gravidade'] == 'Baixa\\Assintomático')]"
   ]
  },
  {
   "cell_type": "code",
   "execution_count": 55,
   "id": "37466146-6357-4ded-825e-4fef31386c2c",
   "metadata": {},
   "outputs": [
    {
     "name": "stderr",
     "output_type": "stream",
     "text": [
      "C:\\Users\\brcalazans\\AppData\\Local\\Temp\\ipykernel_251300\\522389735.py:1: SettingWithCopyWarning: \n",
      "A value is trying to be set on a copy of a slice from a DataFrame.\n",
      "Try using .loc[row_indexer,col_indexer] = value instead\n",
      "\n",
      "See the caveats in the documentation: https://pandas.pydata.org/pandas-docs/stable/user_guide/indexing.html#returning-a-view-versus-a-copy\n",
      "  df_isolamento['Medida de Restricao de Contato'] = df_isolamento['Medida de Restricao de Contato'].replace(1, 'Não Fez Restrição').replace(2, 'Reduziu Contato e Continou Trabalhando').replace(3, 'Ficou em Casa e Saiu Pouco').replace(4, 'Ficou rigorosamente em Casa').replace(9, 'Ignorado')\n"
     ]
    }
   ],
   "source": [
    "df_isolamento['Medida de Restricao de Contato'] = df_isolamento['Medida de Restricao de Contato'].replace(1, 'Não Fez Restrição').replace(2, 'Reduziu Contato e Continou Trabalhando').replace(3, 'Ficou em Casa e Saiu Pouco').replace(4, 'Ficou rigorosamente em Casa').replace(9, 'Ignorado')"
   ]
  },
  {
   "cell_type": "code",
   "execution_count": 56,
   "id": "5e81624e-6d5a-4fa9-b76e-5736bac116e0",
   "metadata": {},
   "outputs": [
    {
     "data": {
      "text/html": [
       "<div>\n",
       "<style scoped>\n",
       "    .dataframe tbody tr th:only-of-type {\n",
       "        vertical-align: middle;\n",
       "    }\n",
       "\n",
       "    .dataframe tbody tr th {\n",
       "        vertical-align: top;\n",
       "    }\n",
       "\n",
       "    .dataframe thead th {\n",
       "        text-align: right;\n",
       "    }\n",
       "</style>\n",
       "<table border=\"1\" class=\"dataframe\">\n",
       "  <thead>\n",
       "    <tr style=\"text-align: right;\">\n",
       "      <th></th>\n",
       "      <th>Medida de Restricao de Contato</th>\n",
       "      <th>Resultado Covid</th>\n",
       "    </tr>\n",
       "  </thead>\n",
       "  <tbody>\n",
       "    <tr>\n",
       "      <th>0</th>\n",
       "      <td>Ficou em Casa e Saiu Pouco</td>\n",
       "      <td>6587</td>\n",
       "    </tr>\n",
       "    <tr>\n",
       "      <th>1</th>\n",
       "      <td>Ficou rigorosamente em Casa</td>\n",
       "      <td>1740</td>\n",
       "    </tr>\n",
       "    <tr>\n",
       "      <th>2</th>\n",
       "      <td>Ignorado</td>\n",
       "      <td>43</td>\n",
       "    </tr>\n",
       "    <tr>\n",
       "      <th>3</th>\n",
       "      <td>Não Fez Restrição</td>\n",
       "      <td>1516</td>\n",
       "    </tr>\n",
       "    <tr>\n",
       "      <th>4</th>\n",
       "      <td>Reduziu Contato, mas Continou Trabalhando</td>\n",
       "      <td>11986</td>\n",
       "    </tr>\n",
       "  </tbody>\n",
       "</table>\n",
       "</div>"
      ],
      "text/plain": [
       "              Medida de Restricao de Contato  Resultado Covid\n",
       "0                 Ficou em Casa e Saiu Pouco             6587\n",
       "1                Ficou rigorosamente em Casa             1740\n",
       "2                                   Ignorado               43\n",
       "3                          Não Fez Restrição             1516\n",
       "4  Reduziu Contato, mas Continou Trabalhando            11986"
      ]
     },
     "execution_count": 56,
     "metadata": {},
     "output_type": "execute_result"
    }
   ],
   "source": [
    "df_isolamento[['Resultado Covid', 'Medida de Restricao de Contato']].groupby('Medida de Restricao de Contato').count().reset_index()"
   ]
  },
  {
   "cell_type": "code",
   "execution_count": 57,
   "id": "d564728f-0134-46a4-9c05-3282dc9f7981",
   "metadata": {},
   "outputs": [
    {
     "data": {
      "image/png": "[encoded data removed]",
      "text/plain": [
       "<Figure size 640x480 with 1 Axes>"
      ]
     },
     "metadata": {},
     "output_type": "display_data"
    }
   ],
   "source": [
    "ax = sns.barplot(df_isolamento, x=\"Medida de Restricao de Contato\", y=\"Resultado Covid\", estimator=\"sum\", errorbar=None)\n",
    "plt.xticks(rotation=90)\n",
    "ax.bar_label(ax.containers[0], fontsize=9);"
   ]
  },
  {
   "cell_type": "code",
   "execution_count": null,
   "id": "ef912914-172e-4ee3-8311-bcf351839a20",
   "metadata": {},
   "outputs": [],
   "source": []
  }
 ],
 "metadata": {
  "kernelspec": {
   "display_name": "Python 3 (ipykernel)",
   "language": "python",
   "name": "python3"
  },
  "language_info": {
   "codemirror_mode": {
    "name": "ipython",
    "version": 3
   },
   "file_extension": ".py",
   "mimetype": "text/x-python",
   "name": "python",
   "nbconvert_exporter": "python",
   "pygments_lexer": "ipython3",
   "version": "3.10.5"
  }
 },
 "nbformat": 4,
 "nbformat_minor": 5
}
